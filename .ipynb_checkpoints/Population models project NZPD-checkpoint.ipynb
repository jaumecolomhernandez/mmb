{
 "cells": [
  {
   "cell_type": "markdown",
   "metadata": {},
   "source": [
    "# Model NPZD\n",
    "Implementation of a NPZD based on the paper 'Internal dynamics of NPZD type ecosystem models'"
   ]
  },
  {
   "cell_type": "markdown",
   "metadata": {},
   "source": [
    "Model equations:\n",
    "\\begin{align}\n",
    "\\frac{\\partial N}{\\partial t}&=-J(N,I)P+\\phi_{z}Z+\\gamma_{m}D \\\\\n",
    "\\frac{\\partial P}{\\partial t}&=(J(N,I)-\\phi_{P})P-G(\\epsilon,g,P)Z \\\\\n",
    "\\frac{\\partial Z}{\\partial t}&=(\\beta G(\\epsilon,g,P)-\\phi_{z}-\\phi^{*}_{Z}Z)Z\\\\\n",
    "\\frac{\\partial D}{\\partial t}&=\\phi_{P}P+((1-\\beta)G(\\epsilon,g,P)+\\phi^{*}_{Z}Z)Z-\\gamma_{m}D\n",
    "\\end{align}\n",
    "With:\n",
    "\\begin{align}\n",
    "J(N,I)&=\\mu_{m}\\cdot f_{N}(N) \\cdot f_{I}(I)=\\mu_{m} \\cdot \\frac{N}{k_{N}+N} \\cdot \\frac{I}{k_{I}+I} \\\\\n",
    "G(\\epsilon,g,P)&=\\frac{g \\epsilon P^{2}}{g+\\epsilon P^{2}}\n",
    "\\end{align}\n"
   ]
  },
  {
   "cell_type": "code",
   "execution_count": 10,
   "metadata": {},
   "outputs": [],
   "source": [
    "import numpy as np\n",
    "import matplotlib.pyplot as plt"
   ]
  },
  {
   "cell_type": "code",
   "execution_count": 11,
   "metadata": {},
   "outputs": [],
   "source": [
    "def phyto_growth(mum,kn,ki,N,I):\n",
    "    return mum*(N/(kn+N))*(I/(ki+I))\n",
    "    \n",
    "def grazing_growth(g,epsilon,P):\n",
    "    return (g*epsilon*(P**2))/(g+epsilon*(P**2))\n",
    "\n",
    "def compute_derivatives(N,P,Z,D,I,beta,mum,phip,phipqua,epsilon,g,phiz,phizqua,gammam,kn,ki):\n",
    "    derivatives=[]\n",
    "    Nderivative=-phyto_growth(mum,kn,ki,N,I)*P+phiz*Z+gammam*D\n",
    "    derivatives.append(Nderivative)\n",
    "    Pderivative=(phyto_growth(mum,kn,ki,N,I)-phip)*P-grazing_growth(g,epsilon,P)*Z\n",
    "    derivatives.append(Pderivative)\n",
    "    Zderivative=(beta*grazing_growth(g,epsilon,P)-phiz-phizqua*Z)*Z\n",
    "    derivatives.append(Zderivative)\n",
    "    Dderivative=phip*P+((1-beta)*grazing_growth(g,epsilon,P)+phizqua*Z)*Z-gammam*D\n",
    "    derivatives.append(Dderivative)\n",
    "    return derivatives\n",
    "\n",
    "def solution_euler(N,P,Z,D,I,beta,mum,phip,phipqua,epsilon,g,phiz,phizqua,gammam,kn,ki,timestep):\n",
    "    derivatives=compute_derivatives(N,P,Z,D,I,beta,mum,phip,phipqua,epsilon,g,phiz,phizqua,gammam,kn,ki)\n",
    "    Nt=N+timestep*derivatives[0]\n",
    "    Pt=P+timestep*derivatives[1]\n",
    "    Zt=Z+timestep*derivatives[2]\n",
    "    Dt=D+timestep*derivatives[3]\n",
    "    return Nt,Pt,Zt,Dt\n",
    "\n",
    "def model(N,P,Z,D,I,beta,mum,phip,phipqua,epsilon,g,phiz,phizqua,gammam,kn,ki,timestep,num_iter):\n",
    "    N_vec=[]\n",
    "    P_vec=[]\n",
    "    Z_vec=[]\n",
    "    D_vec=[]\n",
    "    N_vec.append(N)\n",
    "    P_vec.append(P)\n",
    "    Z_vec.append(Z)\n",
    "    D_vec.append(D)\n",
    "    No=N\n",
    "    Po=P\n",
    "    Zo=Z\n",
    "    Do=D\n",
    "    for i in range(num_iter):\n",
    "        Nt,Pt,Zt,Dt=solution_euler(No,Po,Zo,Do,I,beta,mum,phip,phipqua,epsilon,g,phiz,phizqua,gammam,kn,ki,timestep)\n",
    "        N_vec.append(Nt)\n",
    "        P_vec.append(Pt)\n",
    "        Z_vec.append(Zt)\n",
    "        D_vec.append(Dt)\n",
    "        No=Nt\n",
    "        Po=Pt\n",
    "        Zo=Zt\n",
    "        Do=Dt\n",
    "    return N_vec,P_vec,Z_vec,D_vec"
   ]
  },
  {
   "cell_type": "code",
   "execution_count": 70,
   "metadata": {},
   "outputs": [],
   "source": [
    "# MAKE THIS CLEARER\n",
    "\n",
    "# Model values\n",
    "Cref=1.066 # Growth coefficient of phytoplancton\n",
    "c=1 # Growth coefficient of phytoplancton\n",
    "beta=0.925 # Assimilation coefficient of zooplankton\n",
    "alpha=0.256 # Slope of photoshynthesis vs linght intensity\n",
    "mum=0.270 # Phytoplancton growth rate\n",
    "phip=0.04 # Phytoplancton linear mortality\n",
    "phipqua=0 # Phytoplancton quadratic mortality\n",
    "epsilon=1.6 # Grazing encounter rate\n",
    "g=1.575 # Maximum grazing rate\n",
    "phiz=0.01 # Phytoplancton linear mortality\n",
    "phizqua=0 # Phytoplancton quadratic mortality\n",
    "gammam=0.048 # Detritus remineralization rate\n",
    "kn=0.7 # Half saturation constant for NO3 uptake\n",
    "ki=0.5 # Half saturation constant for light\n",
    "\n",
    "I=2 # Light initial value\n",
    "\n",
    "# Simulation values\n",
    "timestep=0.01\n",
    "num_iter=100000"
   ]
  },
  {
   "cell_type": "code",
   "execution_count": null,
   "metadata": {},
   "outputs": [],
   "source": [
    "for i in range(0,100000,5000):\n",
    "        xran = 5000\n",
    "        dif = np.abs(N_vec[i]-N_vec[i+xran])/N_vec[i]\n",
    "        if dif < 0.0005:\n",
    "            print(f\"\\n{N_vec[-1]} It converges at {dif, i}\")\n",
    "for i in range(0,100000,5000):\n",
    "        xran = 5000\n",
    "        dif = np.abs(D_vec[i]-D_vec[i+xran])/D_vec[i]\n",
    "        print(dif)\n",
    "        if dif < 0.0005:\n",
    "            print(f\"\\n{D_vec[-1]} It converges at {dif, i}\")"
   ]
  },
  {
   "cell_type": "code",
   "execution_count": 208,
   "metadata": {},
   "outputs": [],
   "source": [
    "# Initial values\n",
    "S = 1\n",
    "N,P,Z,D = 1,1,1,1\n",
    "norm = S/(N+P+Z+D)\n",
    "N= N * norm # Nutrients\n",
    "P= P * norm # Phytoplancton\n",
    "Z= Z * norm # Zooplancton\n",
    "D= D * norm # Detritus\n",
    "\n",
    "N_vec,P_vec,Z_vec,D_vec=model(N,P,Z,D,I,beta,mum,phip,phipqua,epsilon,g,phiz,phizqua,gammam,kn,ki,timestep,num_iter)   "
   ]
  },
  {
   "cell_type": "code",
   "execution_count": null,
   "metadata": {},
   "outputs": [],
   "source": []
  },
  {
   "cell_type": "code",
   "execution_count": 209,
   "metadata": {},
   "outputs": [
    {
     "data": {
      "image/png": "[encoded data removed]",
      "text/plain": [
       "<Figure size 720x432 with 1 Axes>"
      ]
     },
     "metadata": {
      "needs_background": "light"
     },
     "output_type": "display_data"
    }
   ],
   "source": [
    "plt.figure(figsize=(10, 6))\n",
    "plt.title('Temporal simulation')\n",
    "ix = np.arange(num_iter+1)\n",
    "plt.plot(ix, N_vec,label=\"N\")\n",
    "plt.plot(ix, P_vec,label=\"P\")\n",
    "plt.plot(ix, Z_vec,label=\"Z\")\n",
    "plt.plot(ix, D_vec,label=\"D\")\n",
    "plt.legend()\n",
    "plt.show()"
   ]
  },
  {
   "cell_type": "code",
   "execution_count": 212,
   "metadata": {},
   "outputs": [
    {
     "name": "stdout",
     "output_type": "stream",
     "text": [
      "0 5000 0.25 \n",
      "5000 10000 0.09310631155146806 \n",
      "10000 15000 0.07502751385391661 \n",
      "\n",
      "It converges at (0.07574630225862905, 8.18874500145404e-07, 0.0014866128192915036, 10000)\n"
     ]
    }
   ],
   "source": [
    "vec = D_vec\n",
    "for i in range(0,100000,5000):\n",
    "    shift = i\n",
    "    xran = 5000\n",
    "    size = len(vec)\n",
    "    print(i,i+xran, vec[i], end=' \\n')\n",
    "    dif = np.abs(vec[i]-vec[i+xran])/N_vec[i]\n",
    "    disp = np.var(vec[i:i+xran])/np.mean(vec[i:i+xran])\n",
    "    if dif < 0.0001:\n",
    "        print(f\"\\nIt converges at {vec[i+xran], disp, dif, i}\")\n",
    "        break\n",
    "    if disp < 0.00001:\n",
    "        print(f\"\\nIt converges at {vec[i+xran], disp, dif, i}\")\n",
    "        break\n",
    "    #print(, dif, end=' \\n')\n",
    "    #a=np.var(D_vec[90000:99500])"
   ]
  },
  {
   "cell_type": "code",
   "execution_count": 213,
   "metadata": {},
   "outputs": [
    {
     "data": {
      "text/plain": [
       "0.07488504656823758"
      ]
     },
     "execution_count": 213,
     "metadata": {},
     "output_type": "execute_result"
    }
   ],
   "source": [
    "D_vec[-5]"
   ]
  },
  {
   "cell_type": "code",
   "execution_count": 157,
   "metadata": {},
   "outputs": [
    {
     "data": {
      "text/plain": [
       "[<matplotlib.lines.Line2D at 0x7f62e7ea8a60>]"
      ]
     },
     "execution_count": 157,
     "metadata": {},
     "output_type": "execute_result"
    },
    {
     "data": {
      "image/png": "[encoded data removed]",
      "text/plain": [
       "<Figure size 432x288 with 1 Axes>"
      ]
     },
     "metadata": {
      "needs_background": "light"
     },
     "output_type": "display_data"
    }
   ],
   "source": [
    "plt.plot(N_vec, D_vec)"
   ]
  },
  {
   "cell_type": "markdown",
   "metadata": {},
   "source": [
    "### Misc"
   ]
  },
  {
   "cell_type": "markdown",
   "metadata": {},
   "source": [
    "Implementation of a predator prey model\n",
    "\n",
    "$\\begin{cases} \\dot{N}=N*(a-b*P) \\\\ \\dot{P}=P*(c*N-d) \\end{cases}$"
   ]
  },
  {
   "cell_type": "code",
   "execution_count": 77,
   "metadata": {},
   "outputs": [],
   "source": [
    "import numpy as np\n",
    "import matplotlib.pyplot as plt"
   ]
  },
  {
   "cell_type": "code",
   "execution_count": 147,
   "metadata": {},
   "outputs": [],
   "source": [
    "# Data containers\n",
    "n_steps = 10000*3\n",
    "N = np.zeros(n_steps)\n",
    "P = np.zeros(n_steps)\n",
    "# Initial values\n",
    "N[0] = 0.2\n",
    "P[0] = 0.8"
   ]
  },
  {
   "cell_type": "code",
   "execution_count": 148,
   "metadata": {},
   "outputs": [],
   "source": [
    "dt = 0.0001"
   ]
  },
  {
   "cell_type": "code",
   "execution_count": 149,
   "metadata": {},
   "outputs": [],
   "source": [
    "# Params\n",
    "a = 60\n",
    "b = 180\n",
    "c = 80\n",
    "d = 20"
   ]
  },
  {
   "cell_type": "code",
   "execution_count": 151,
   "metadata": {
    "scrolled": true
   },
   "outputs": [],
   "source": [
    "for i in range(n_steps-1):\n",
    "    dn = N[i]*(a-b*P[i])\n",
    "    dp = P[i]*(c*N[i]-d)\n",
    "    if np.isinf(dn):\n",
    "        print(i)\n",
    "        break\n",
    "    N[i+1] = N[i]*(1+dn*dt)\n",
    "    P[i+1] = P[i]*(1+dp*dt)"
   ]
  },
  {
   "cell_type": "code",
   "execution_count": 156,
   "metadata": {},
   "outputs": [
    {
     "name": "stdout",
     "output_type": "stream",
     "text": [
      "First constant: 0.33, second constant: 0.25\n"
     ]
    },
    {
     "data": {
      "text/plain": [
       "[<matplotlib.lines.Line2D at 0x7f39eb7ea280>]"
      ]
     },
     "execution_count": 156,
     "metadata": {},
     "output_type": "execute_result"
    },
    {
     "data": {
      "image/png": "[encoded data removed]",
      "text/plain": [
       "<Figure size 432x288 with 1 Axes>"
      ]
     },
     "metadata": {
      "needs_background": "light"
     },
     "output_type": "display_data"
    }
   ],
   "source": [
    "# TODO: Improve visualizations\n",
    "print(f\"First constant: {a/b:.2f}, second constant: {d/c:.2f}\")\n",
    "plt.plot(N[:i])\n",
    "plt.plot(P[:i])"
   ]
  }
 ],
 "metadata": {
  "kernelspec": {
   "display_name": "Python 3",
   "language": "python",
   "name": "python3"
  },
  "language_info": {
   "codemirror_mode": {
    "name": "ipython",
    "version": 3
   },
   "file_extension": ".py",
   "mimetype": "text/x-python",
   "name": "python",
   "nbconvert_exporter": "python",
   "pygments_lexer": "ipython3",
   "version": "3.8.3"
  }
 },
 "nbformat": 4,
 "nbformat_minor": 4
}
