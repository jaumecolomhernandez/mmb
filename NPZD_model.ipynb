{
 "cells": [
  {
   "cell_type": "markdown",
   "metadata": {},
   "source": [
    "## Set-up"
   ]
  },
  {
   "cell_type": "code",
   "execution_count": 1,
   "metadata": {},
   "outputs": [],
   "source": [
    "import numpy as np\n",
    "import matplotlib.pyplot as plt"
   ]
  },
  {
   "cell_type": "markdown",
   "metadata": {},
   "source": [
    "## Model parameters"
   ]
  },
  {
   "cell_type": "code",
   "execution_count": 2,
   "metadata": {},
   "outputs": [],
   "source": []
  },
  {
   "cell_type": "markdown",
   "metadata": {},
   "source": [
    "Model equations:\n",
    "\\begin{align}\n",
    "\\frac{\\partial N}{\\partial t}&=-J(N,I)P+\\phi_{z}Z+\\gamma_{m}D \\\\\n",
    "\\frac{\\partial P}{\\partial t}&=(J(N,I)-\\phi_{P})P-G(\\epsilon,g,P)Z \\\\\n",
    "\\frac{\\partial Z}{\\partial t}&=(\\beta G(\\epsilon,g,P)-\\phi_{z}-\\phi^{*}_{Z}Z)Z\\\\\n",
    "\\frac{\\partial D}{\\partial t}&=\\phi_{P}P+((1-\\beta)G(\\epsilon,g,P)+\\phi^{*}_{Z}Z)Z-\\gamma_{m}D\n",
    "\\end{align}\n",
    "With:\n",
    "\\begin{align}\n",
    "J(N,I)&=\\mu_{m}\\cdot f_{N}(N) \\cdot f_{I}(I)=\\mu_{m} \\cdot \\frac{N}{k_{N}+N} \\cdot \\frac{I}{k_{I}+I} \\\\\n",
    "G(\\epsilon,g,P)&=\\frac{g \\epsilon P^{2}}{g+\\epsilon P^{2}}\n",
    "\\end{align}\n"
   ]
  },
  {
   "cell_type": "code",
   "execution_count": 30,
   "metadata": {},
   "outputs": [],
   "source": [
    "def phyto_growth(mum,kn,ki,N,I):\n",
    "    J=mum*(N/(kn+N))*(I/(ki+I))\n",
    "    return J\n",
    "def grazing_growth(g,epsilon,P):\n",
    "    G=(g*epsilon*(P**2))/(g+epsilon*(P**2))\n",
    "    return G\n",
    "def compute_derivatives(N,P,Z,D,I,beta,mum,phip,phipqua,epsilon,g,phiz,phizqua,gammam,kn,ki):\n",
    "    derivatives=[]\n",
    "    Nderivative=-phyto_growth(mum,kn,ki,N,I)*P+phiz*Z+gammam*D\n",
    "    derivatives.append(Nderivative)\n",
    "    Pderivative=(phyto_growth(mum,kn,ki,N,I)-phip)*P-grazing_growth(g,epsilon,P)*Z\n",
    "    derivatives.append(Pderivative)\n",
    "    Zderivative=(beta*grazing_growth(epsilon,g,P)-phiz-phizqua*Z)*Z\n",
    "    derivatives.append(Zderivative)\n",
    "    Dderivative=phip*P+((1-beta)*grazing_growth(epsilon,g,P)+phizqua*Z)*Z-gammam*D\n",
    "    derivatives.append(Dderivative)\n",
    "    return derivatives\n",
    "def solution_euler(N,P,Z,D,I,beta,mum,phip,phipqua,epsilon,g,phiz,phizqua,gammam,kn,ki,timestep):\n",
    "    derivatives=compute_derivatives(N,P,Z,D,I,beta,mum,phip,phipqua,epsilon,g,phiz,phizqua,gammam,kn,ki)\n",
    "    Nt=N+timestep*derivatives[0]\n",
    "    Pt=P+timestep*derivatives[1]\n",
    "    Zt=Z+timestep*derivatives[2]\n",
    "    Dt=D+timestep*derivatives[3]\n",
    "    return Nt,Pt,Zt,Dt\n",
    "def model(N,P,Z,D,I,beta,mum,phip,phipqua,epsilon,g,phiz,phizqua,gammam,kn,ki,timestep,num_iter):\n",
    "    N_vec=[]\n",
    "    P_vec=[]\n",
    "    Z_vec=[]\n",
    "    D_vec=[]\n",
    "    N_vec.append(N)\n",
    "    P_vec.append(P)\n",
    "    Z_vec.append(Z)\n",
    "    D_vec.append(D)\n",
    "    No=N\n",
    "    Po=P\n",
    "    Zo=Z\n",
    "    Do=D\n",
    "    for i in range(num_iter):\n",
    "        Nt,Pt,Zt,Dt=solution_euler(No,Po,Zo,Do,I,beta,mum,phip,phipqua,epsilon,g,phiz,phizqua,gammam,kn,ki,timestep)\n",
    "        N_vec.append(Nt)\n",
    "        P_vec.append(Pt)\n",
    "        Z_vec.append(Zt)\n",
    "        D_vec.append(Dt)\n",
    "        No=Nt\n",
    "        Po=Pt\n",
    "        Zo=Zt\n",
    "        Do=Dt\n",
    "    return N_vec,P_vec,Z_vec,D_vec\n",
    "\n",
    "    \n",
    "    \n",
    "    \n",
    "    "
   ]
  },
  {
   "cell_type": "code",
   "execution_count": 47,
   "metadata": {},
   "outputs": [],
   "source": [
    "Cref=1.066\n",
    "c=1\n",
    "beta=0.925\n",
    "alpha=0.256\n",
    "mum=0.270\n",
    "phip=0.04\n",
    "phipqua=0\n",
    "epsilon=1.6\n",
    "g=1.575\n",
    "phiz=0.01\n",
    "phizqua=0\n",
    "gammam=0.048\n",
    "kn=0.7\n",
    "ki=0.5\n",
    "I=2\n",
    "timestep=0.1\n",
    "num_iter=100\n",
    "N=0.9\n",
    "P=1\n",
    "Z=0.2\n",
    "D=0.1\n",
    "N_vec,P_vec,Z_vec,D_vec=model(N,P,Z,D,I,beta,mum,phip,phipqua,epsilon,g,phiz,phizqua,gammam,kn,ki,timestep,num_iter)"
   ]
  },
  {
   "cell_type": "code",
   "execution_count": 48,
   "metadata": {},
   "outputs": [
    {
     "data": {
      "image/png": "[encoded data removed]",
      "text/plain": [
       "<Figure size 432x288 with 1 Axes>"
      ]
     },
     "metadata": {},
     "output_type": "display_data"
    }
   ],
   "source": [
    "plt.figure()\n",
    "plt.plot(N_vec,label=\"N\")\n",
    "plt.plot(P_vec,label=\"P\")\n",
    "plt.plot(Z_vec,label=\"Z\")\n",
    "plt.plot(D_vec,label=\"D\")\n",
    "plt.legend()\n",
    "plt.show()"
   ]
  },
  {
   "cell_type": "code",
   "execution_count": null,
   "metadata": {},
   "outputs": [],
   "source": []
  }
 ],
 "metadata": {
  "kernelspec": {
   "display_name": "Python 3",
   "language": "python",
   "name": "python3"
  },
  "language_info": {
   "codemirror_mode": {
    "name": "ipython",
    "version": 3
   },
   "file_extension": ".py",
   "mimetype": "text/x-python",
   "name": "python",
   "nbconvert_exporter": "python",
   "pygments_lexer": "ipython3",
   "version": "3.6.9"
  }
 },
 "nbformat": 4,
 "nbformat_minor": 2
}
